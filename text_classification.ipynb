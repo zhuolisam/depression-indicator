{
 "cells": [
  {
   "cell_type": "markdown",
   "metadata": {
    "id": "3vRF3jUTOZJM"
   },
   "source": [
    "# Libraries Import\n"
   ]
  },
  {
   "cell_type": "code",
   "execution_count": 1,
   "metadata": {
    "colab": {
     "base_uri": "https://localhost:8080/"
    },
    "id": "Owd-w-ymmT38",
    "outputId": "02a11ba6-2e0a-41a6-b9b6-d3cb7fdad95b"
   },
   "outputs": [
    {
     "name": "stderr",
     "output_type": "stream",
     "text": [
      "<frozen importlib._bootstrap>:219: RuntimeWarning: numpy.ufunc size changed, may indicate binary incompatibility. Expected 216 from C header, got 232 from PyObject\n"
     ]
    },
    {
     "name": "stdout",
     "output_type": "stream",
     "text": [
      "Requirement already satisfied: nltk in c:\\users\\zhuol\\anaconda3\\envs\\keras\\lib\\site-packages (3.7)\n",
      "Requirement already satisfied: joblib in c:\\users\\zhuol\\anaconda3\\envs\\keras\\lib\\site-packages (from nltk) (1.1.0)\n",
      "Requirement already satisfied: click in c:\\users\\zhuol\\anaconda3\\envs\\keras\\lib\\site-packages (from nltk) (8.0.4)\n",
      "Requirement already satisfied: regex>=2021.8.3 in c:\\users\\zhuol\\anaconda3\\envs\\keras\\lib\\site-packages (from nltk) (2022.6.2)\n",
      "Requirement already satisfied: tqdm in c:\\users\\zhuol\\anaconda3\\envs\\keras\\lib\\site-packages (from nltk) (4.64.0)\n",
      "Requirement already satisfied: colorama in c:\\users\\zhuol\\anaconda3\\envs\\keras\\lib\\site-packages (from click->nltk) (0.4.4)\n"
     ]
    },
    {
     "name": "stderr",
     "output_type": "stream",
     "text": [
      "<frozen importlib._bootstrap>:219: RuntimeWarning: numpy.ufunc size changed, may indicate binary incompatibility. Expected 216 from C header, got 232 from PyObject\n",
      "[nltk_data] Downloading package stopwords to\n",
      "[nltk_data]     C:\\Users\\zhuol\\AppData\\Roaming\\nltk_data...\n",
      "[nltk_data]   Package stopwords is already up-to-date!\n",
      "[nltk_data] Downloading package averaged_perceptron_tagger to\n",
      "[nltk_data]     C:\\Users\\zhuol\\AppData\\Roaming\\nltk_data...\n",
      "[nltk_data]   Package averaged_perceptron_tagger is already up-to-\n",
      "[nltk_data]       date!\n",
      "[nltk_data] Downloading package punkt to\n",
      "[nltk_data]     C:\\Users\\zhuol\\AppData\\Roaming\\nltk_data...\n",
      "[nltk_data]   Package punkt is already up-to-date!\n",
      "[nltk_data] Downloading package wordnet to\n",
      "[nltk_data]     C:\\Users\\zhuol\\AppData\\Roaming\\nltk_data...\n",
      "[nltk_data]   Package wordnet is already up-to-date!\n"
     ]
    },
    {
     "data": {
      "text/plain": [
       "True"
      ]
     },
     "execution_count": 1,
     "metadata": {},
     "output_type": "execute_result"
    }
   ],
   "source": [
    "import csv\n",
    "import string\n",
    "import re\n",
    "import pandas as pd\n",
    "import re\n",
    "import numpy as np\n",
    "import matplotlib.pyplot as plt\n",
    "import seaborn as sns\n",
    "\n",
    "!pip install nltk\n",
    "import nltk\n",
    "from nltk.tokenize import RegexpTokenizer\n",
    "from nltk.stem import WordNetLemmatizer\n",
    "from nltk import word_tokenize,pos_tag\n",
    "from nltk.stem import PorterStemmer\n",
    "nltk.download('stopwords')\n",
    "nltk.download('averaged_perceptron_tagger')\n",
    "nltk.download('punkt')\n",
    "nltk.download('wordnet')"
   ]
  },
  {
   "cell_type": "markdown",
   "metadata": {
    "id": "Q9LxMIwjOh2z"
   },
   "source": [
    "# Data preprocessing\n",
    "\n",
    "We decided not to remove stopwords, and not to perform stemming and lemmatization.\n",
    "\n",
    "This is because stopwords convey meanings in this context. For example, \"I am not happy\" and \"I am happy\" yields different result\n"
   ]
  },
  {
   "cell_type": "code",
   "execution_count": 2,
   "metadata": {
    "id": "mMp3IwVGPFx4"
   },
   "outputs": [],
   "source": [
    "# def remove_stopwords(text):\n",
    "#   stopwords = nltk.corpus.stopwords.words('english')\n",
    "#   return [word for word in text if word not in stopwords]\n",
    "\n",
    "# def lemmatization(text_list):\n",
    "#   result = []\n",
    "#   wordnet = WordNetLemmatizer()\n",
    "  \n",
    "#   for token, tag in pos_tag(text_list):\n",
    "#     pos = tag[0].lower()\n",
    "\n",
    "#     if pos not in ['a','r','n','v']:\n",
    "#       pos = 'n'\n",
    "\n",
    "#     result.append(wordnet.lemmatize(token, pos))\n",
    "\n",
    "#   return result\n",
    "\n",
    "# def stemming(text_list):\n",
    "#   porter = PorterStemmer()\n",
    "\n",
    "#   result = []\n",
    "#   for word in text_list:\n",
    "#     result.append(porter.stem(word))\n",
    "\n",
    "#   return result\n",
    "\n",
    "def remove_noise(text):\n",
    "  # lower text\n",
    "  text = text.lower()\n",
    "\n",
    "  # remove rt\n",
    "  text = re.sub('@[A-Za-z0-9]+','',text)\n",
    "\n",
    "  #remove tab, new line, ans back slice\n",
    "  text = text.replace('\\\\t',' ').replace('\\\\n',' ').replace('\\\\u',' ').replace('\\\\','')\n",
    "\n",
    "  #remove non ASCII (emoticon, chinese word, etc)\n",
    "  text = text.encode('ascii','replace').decode('ascii')\n",
    "\n",
    "\n",
    "  # remove incomplete URL\n",
    "  text.replace('http://',' ').replace('https://',' ')\n",
    "\n",
    "  # remove any hyperlink\n",
    "  text = re.sub(r'https?:\\/\\/\\S+','',text)\n",
    "\n",
    "  # remove punctuation\n",
    "  text = text.translate(str.maketrans('', '', string.punctuation))\n",
    "\n",
    "  text = text.strip()\n",
    "\n",
    "  return text\n"
   ]
  },
  {
   "cell_type": "markdown",
   "metadata": {
    "id": "hWRR_SuOgmlV"
   },
   "source": [
    "# Data Loading\n",
    " please find the dataset at https://www.kaggle.com/datasets/kazanova/sentiment140"
   ]
  },
  {
   "cell_type": "code",
   "execution_count": 59,
   "metadata": {},
   "outputs": [
    {
     "data": {
      "text/html": [
       "<div>\n",
       "<style scoped>\n",
       "    .dataframe tbody tr th:only-of-type {\n",
       "        vertical-align: middle;\n",
       "    }\n",
       "\n",
       "    .dataframe tbody tr th {\n",
       "        vertical-align: top;\n",
       "    }\n",
       "\n",
       "    .dataframe thead th {\n",
       "        text-align: right;\n",
       "    }\n",
       "</style>\n",
       "<table border=\"1\" class=\"dataframe\">\n",
       "  <thead>\n",
       "    <tr style=\"text-align: right;\">\n",
       "      <th></th>\n",
       "      <th>target</th>\n",
       "      <th>ids</th>\n",
       "      <th>date</th>\n",
       "      <th>flag</th>\n",
       "      <th>user</th>\n",
       "      <th>TweetText</th>\n",
       "    </tr>\n",
       "  </thead>\n",
       "  <tbody>\n",
       "    <tr>\n",
       "      <th>0</th>\n",
       "      <td>0</td>\n",
       "      <td>1467810672</td>\n",
       "      <td>Mon Apr 06 22:19:49 PDT 2009</td>\n",
       "      <td>NO_QUERY</td>\n",
       "      <td>scotthamilton</td>\n",
       "      <td>is upset that he can't update his Facebook by ...</td>\n",
       "    </tr>\n",
       "    <tr>\n",
       "      <th>1</th>\n",
       "      <td>0</td>\n",
       "      <td>1467810917</td>\n",
       "      <td>Mon Apr 06 22:19:53 PDT 2009</td>\n",
       "      <td>NO_QUERY</td>\n",
       "      <td>mattycus</td>\n",
       "      <td>@Kenichan I dived many times for the ball. Man...</td>\n",
       "    </tr>\n",
       "    <tr>\n",
       "      <th>2</th>\n",
       "      <td>0</td>\n",
       "      <td>1467811184</td>\n",
       "      <td>Mon Apr 06 22:19:57 PDT 2009</td>\n",
       "      <td>NO_QUERY</td>\n",
       "      <td>ElleCTF</td>\n",
       "      <td>my whole body feels itchy and like its on fire</td>\n",
       "    </tr>\n",
       "    <tr>\n",
       "      <th>3</th>\n",
       "      <td>0</td>\n",
       "      <td>1467811193</td>\n",
       "      <td>Mon Apr 06 22:19:57 PDT 2009</td>\n",
       "      <td>NO_QUERY</td>\n",
       "      <td>Karoli</td>\n",
       "      <td>@nationwideclass no, it's not behaving at all....</td>\n",
       "    </tr>\n",
       "    <tr>\n",
       "      <th>4</th>\n",
       "      <td>0</td>\n",
       "      <td>1467811372</td>\n",
       "      <td>Mon Apr 06 22:20:00 PDT 2009</td>\n",
       "      <td>NO_QUERY</td>\n",
       "      <td>joy_wolf</td>\n",
       "      <td>@Kwesidei not the whole crew</td>\n",
       "    </tr>\n",
       "  </tbody>\n",
       "</table>\n",
       "</div>"
      ],
      "text/plain": [
       "   target         ids                          date      flag           user  \\\n",
       "0       0  1467810672  Mon Apr 06 22:19:49 PDT 2009  NO_QUERY  scotthamilton   \n",
       "1       0  1467810917  Mon Apr 06 22:19:53 PDT 2009  NO_QUERY       mattycus   \n",
       "2       0  1467811184  Mon Apr 06 22:19:57 PDT 2009  NO_QUERY        ElleCTF   \n",
       "3       0  1467811193  Mon Apr 06 22:19:57 PDT 2009  NO_QUERY         Karoli   \n",
       "4       0  1467811372  Mon Apr 06 22:20:00 PDT 2009  NO_QUERY       joy_wolf   \n",
       "\n",
       "                                           TweetText  \n",
       "0  is upset that he can't update his Facebook by ...  \n",
       "1  @Kenichan I dived many times for the ball. Man...  \n",
       "2    my whole body feels itchy and like its on fire   \n",
       "3  @nationwideclass no, it's not behaving at all....  \n",
       "4                      @Kwesidei not the whole crew   "
      ]
     },
     "execution_count": 59,
     "metadata": {},
     "output_type": "execute_result"
    }
   ],
   "source": [
    "#download the dataset from Kaggle and replace the path\n",
    "data = pd.read_csv('dataset/training.1600000.processed.noemoticon.csv',encoding='latin-1')\n",
    "DATASET_COLUMNS = [\"target\", \"ids\", \"date\", \"flag\", \"user\", \"TweetText\"]\n",
    "data.columns = DATASET_COLUMNS\n",
    "data.head()"
   ]
  },
  {
   "cell_type": "markdown",
   "metadata": {
    "id": "_Ir95piCn08v"
   },
   "source": [
    "# Text Preprocessing"
   ]
  },
  {
   "cell_type": "code",
   "execution_count": 7,
   "metadata": {
    "colab": {
     "base_uri": "https://localhost:8080/",
     "height": 395
    },
    "id": "HJFwzX5toCKn",
    "outputId": "59a1c98c-9ad2-4b53-ae6c-1e26ab13c7eb"
   },
   "outputs": [
    {
     "data": {
      "text/html": [
       "<div>\n",
       "<style scoped>\n",
       "    .dataframe tbody tr th:only-of-type {\n",
       "        vertical-align: middle;\n",
       "    }\n",
       "\n",
       "    .dataframe tbody tr th {\n",
       "        vertical-align: top;\n",
       "    }\n",
       "\n",
       "    .dataframe thead th {\n",
       "        text-align: right;\n",
       "    }\n",
       "</style>\n",
       "<table border=\"1\" class=\"dataframe\">\n",
       "  <thead>\n",
       "    <tr style=\"text-align: right;\">\n",
       "      <th></th>\n",
       "      <th>target</th>\n",
       "      <th>ids</th>\n",
       "      <th>date</th>\n",
       "      <th>flag</th>\n",
       "      <th>user</th>\n",
       "      <th>TweetText</th>\n",
       "    </tr>\n",
       "  </thead>\n",
       "  <tbody>\n",
       "    <tr>\n",
       "      <th>0</th>\n",
       "      <td>1</td>\n",
       "      <td>1554015423</td>\n",
       "      <td>Sat Apr 18 15:50:12 PDT 2009</td>\n",
       "      <td>NO_QUERY</td>\n",
       "      <td>Ihaterob</td>\n",
       "      <td>The filet migon is on the grill hopefully I ge...</td>\n",
       "    </tr>\n",
       "    <tr>\n",
       "      <th>1</th>\n",
       "      <td>0</td>\n",
       "      <td>2327854482</td>\n",
       "      <td>Thu Jun 25 08:52:10 PDT 2009</td>\n",
       "      <td>NO_QUERY</td>\n",
       "      <td>CarJoyAtk</td>\n",
       "      <td>So happy I got to wake up to Taylors voice thi...</td>\n",
       "    </tr>\n",
       "    <tr>\n",
       "      <th>2</th>\n",
       "      <td>1</td>\n",
       "      <td>1968027598</td>\n",
       "      <td>Fri May 29 20:37:49 PDT 2009</td>\n",
       "      <td>NO_QUERY</td>\n",
       "      <td>AndrewHansen1</td>\n",
       "      <td>@lindasmith247 &amp;quot;who&amp;quot; is the best? I'...</td>\n",
       "    </tr>\n",
       "    <tr>\n",
       "      <th>3</th>\n",
       "      <td>1</td>\n",
       "      <td>1977234508</td>\n",
       "      <td>Sat May 30 20:27:10 PDT 2009</td>\n",
       "      <td>NO_QUERY</td>\n",
       "      <td>Warmnfuzzy</td>\n",
       "      <td>@williger Here ya go-  http://bit.ly/oYIjE  .....</td>\n",
       "    </tr>\n",
       "    <tr>\n",
       "      <th>4</th>\n",
       "      <td>1</td>\n",
       "      <td>1469730064</td>\n",
       "      <td>Tue Apr 07 07:14:59 PDT 2009</td>\n",
       "      <td>NO_QUERY</td>\n",
       "      <td>aksala13</td>\n",
       "      <td>@SistersTalk  That would be entertaining!  lol...</td>\n",
       "    </tr>\n",
       "  </tbody>\n",
       "</table>\n",
       "</div>"
      ],
      "text/plain": [
       "   target         ids                          date      flag           user  \\\n",
       "0       1  1554015423  Sat Apr 18 15:50:12 PDT 2009  NO_QUERY       Ihaterob   \n",
       "1       0  2327854482  Thu Jun 25 08:52:10 PDT 2009  NO_QUERY      CarJoyAtk   \n",
       "2       1  1968027598  Fri May 29 20:37:49 PDT 2009  NO_QUERY  AndrewHansen1   \n",
       "3       1  1977234508  Sat May 30 20:27:10 PDT 2009  NO_QUERY     Warmnfuzzy   \n",
       "4       1  1469730064  Tue Apr 07 07:14:59 PDT 2009  NO_QUERY       aksala13   \n",
       "\n",
       "                                           TweetText  \n",
       "0  The filet migon is on the grill hopefully I ge...  \n",
       "1  So happy I got to wake up to Taylors voice thi...  \n",
       "2  @lindasmith247 &quot;who&quot; is the best? I'...  \n",
       "3  @williger Here ya go-  http://bit.ly/oYIjE  .....  \n",
       "4  @SistersTalk  That would be entertaining!  lol...  "
      ]
     },
     "execution_count": 7,
     "metadata": {},
     "output_type": "execute_result"
    }
   ],
   "source": [
    "df = pd.read_csv('dataset/training.1600000.processed.noemoticon.csv',encoding='latin-1')\n",
    "DATASET_COLUMNS = [\"target\", \"ids\", \"date\", \"flag\", \"user\", \"TweetText\"]\n",
    "df.columns = DATASET_COLUMNS\n",
    "df = df.sample(frac=1).reset_index(drop=True)\n",
    "df.loc[df['target'] == 4, 'target'] = 1\n",
    "df.head()"
   ]
  },
  {
   "cell_type": "code",
   "execution_count": 9,
   "metadata": {
    "id": "cLNv00ouVZGl"
   },
   "outputs": [
    {
     "data": {
      "text/html": [
       "<div>\n",
       "<style scoped>\n",
       "    .dataframe tbody tr th:only-of-type {\n",
       "        vertical-align: middle;\n",
       "    }\n",
       "\n",
       "    .dataframe tbody tr th {\n",
       "        vertical-align: top;\n",
       "    }\n",
       "\n",
       "    .dataframe thead th {\n",
       "        text-align: right;\n",
       "    }\n",
       "</style>\n",
       "<table border=\"1\" class=\"dataframe\">\n",
       "  <thead>\n",
       "    <tr style=\"text-align: right;\">\n",
       "      <th></th>\n",
       "      <th>target</th>\n",
       "      <th>ids</th>\n",
       "      <th>date</th>\n",
       "      <th>flag</th>\n",
       "      <th>user</th>\n",
       "      <th>TweetText</th>\n",
       "      <th>clean_text</th>\n",
       "    </tr>\n",
       "  </thead>\n",
       "  <tbody>\n",
       "    <tr>\n",
       "      <th>0</th>\n",
       "      <td>1</td>\n",
       "      <td>1554015423</td>\n",
       "      <td>Sat Apr 18 15:50:12 PDT 2009</td>\n",
       "      <td>NO_QUERY</td>\n",
       "      <td>Ihaterob</td>\n",
       "      <td>The filet migon is on the grill hopefully I ge...</td>\n",
       "      <td>the filet migon is on the grill hopefully i ge...</td>\n",
       "    </tr>\n",
       "    <tr>\n",
       "      <th>1</th>\n",
       "      <td>0</td>\n",
       "      <td>2327854482</td>\n",
       "      <td>Thu Jun 25 08:52:10 PDT 2009</td>\n",
       "      <td>NO_QUERY</td>\n",
       "      <td>CarJoyAtk</td>\n",
       "      <td>So happy I got to wake up to Taylors voice thi...</td>\n",
       "      <td>so happy i got to wake up to taylors voice thi...</td>\n",
       "    </tr>\n",
       "    <tr>\n",
       "      <th>2</th>\n",
       "      <td>1</td>\n",
       "      <td>1968027598</td>\n",
       "      <td>Fri May 29 20:37:49 PDT 2009</td>\n",
       "      <td>NO_QUERY</td>\n",
       "      <td>AndrewHansen1</td>\n",
       "      <td>@lindasmith247 &amp;quot;who&amp;quot; is the best? I'...</td>\n",
       "      <td>quotwhoquot is the best im not sure i understand</td>\n",
       "    </tr>\n",
       "    <tr>\n",
       "      <th>3</th>\n",
       "      <td>1</td>\n",
       "      <td>1977234508</td>\n",
       "      <td>Sat May 30 20:27:10 PDT 2009</td>\n",
       "      <td>NO_QUERY</td>\n",
       "      <td>Warmnfuzzy</td>\n",
       "      <td>@williger Here ya go-  http://bit.ly/oYIjE  .....</td>\n",
       "      <td>here ya go they get more beautiful every time ...</td>\n",
       "    </tr>\n",
       "    <tr>\n",
       "      <th>4</th>\n",
       "      <td>1</td>\n",
       "      <td>1469730064</td>\n",
       "      <td>Tue Apr 07 07:14:59 PDT 2009</td>\n",
       "      <td>NO_QUERY</td>\n",
       "      <td>aksala13</td>\n",
       "      <td>@SistersTalk  That would be entertaining!  lol...</td>\n",
       "      <td>that would be entertaining lol i hope the hear...</td>\n",
       "    </tr>\n",
       "  </tbody>\n",
       "</table>\n",
       "</div>"
      ],
      "text/plain": [
       "   target         ids                          date      flag           user  \\\n",
       "0       1  1554015423  Sat Apr 18 15:50:12 PDT 2009  NO_QUERY       Ihaterob   \n",
       "1       0  2327854482  Thu Jun 25 08:52:10 PDT 2009  NO_QUERY      CarJoyAtk   \n",
       "2       1  1968027598  Fri May 29 20:37:49 PDT 2009  NO_QUERY  AndrewHansen1   \n",
       "3       1  1977234508  Sat May 30 20:27:10 PDT 2009  NO_QUERY     Warmnfuzzy   \n",
       "4       1  1469730064  Tue Apr 07 07:14:59 PDT 2009  NO_QUERY       aksala13   \n",
       "\n",
       "                                           TweetText  \\\n",
       "0  The filet migon is on the grill hopefully I ge...   \n",
       "1  So happy I got to wake up to Taylors voice thi...   \n",
       "2  @lindasmith247 &quot;who&quot; is the best? I'...   \n",
       "3  @williger Here ya go-  http://bit.ly/oYIjE  .....   \n",
       "4  @SistersTalk  That would be entertaining!  lol...   \n",
       "\n",
       "                                          clean_text  \n",
       "0  the filet migon is on the grill hopefully i ge...  \n",
       "1  so happy i got to wake up to taylors voice thi...  \n",
       "2   quotwhoquot is the best im not sure i understand  \n",
       "3  here ya go they get more beautiful every time ...  \n",
       "4  that would be entertaining lol i hope the hear...  "
      ]
     },
     "execution_count": 9,
     "metadata": {},
     "output_type": "execute_result"
    }
   ],
   "source": [
    "df['clean_text'] = df['TweetText'].astype(str).apply(remove_noise)\n",
    "df.head()"
   ]
  },
  {
   "cell_type": "markdown",
   "metadata": {},
   "source": [
    "# Data Splitting"
   ]
  },
  {
   "cell_type": "code",
   "execution_count": 8,
   "metadata": {
    "id": "ZGjR54t1n2i7"
   },
   "outputs": [],
   "source": [
    "import tensorflow as tf\n",
    "from tensorflow.keras.preprocessing.text import Tokenizer\n",
    "from tensorflow.keras.preprocessing.sequence import pad_sequences"
   ]
  },
  {
   "cell_type": "code",
   "execution_count": 10,
   "metadata": {
    "id": "5u9G43FjoKnm"
   },
   "outputs": [],
   "source": [
    "tokenizer = Tokenizer(oov_token = '<OOV>')\n",
    "\n",
    "split = round(len(df) * 0.8)\n",
    "X_train = df['clean_text'][:split]\n",
    "y_train = df['target'][:split]\n",
    "\n",
    "X_test = df['clean_text'][split:]\n",
    "y_test = df['target'][split:]\n"
   ]
  },
  {
   "cell_type": "code",
   "execution_count": 64,
   "metadata": {},
   "outputs": [
    {
     "data": {
      "text/plain": [
       "0          the filet migon is on the grill hopefully i ge...\n",
       "1          so happy i got to wake up to taylors voice thi...\n",
       "2           quotwhoquot is the best im not sure i understand\n",
       "3          here ya go they get more beautiful every time ...\n",
       "4          that would be entertaining lol i hope the hear...\n",
       "                                 ...                        \n",
       "1279994    having my final concert here in dubai tomorrow...\n",
       "1279995    are you sure its mandy moore anyone could be m...\n",
       "1279996    medvet sent 4 pawprints today in the mail and ...\n",
       "1279997      the day is just uninteresting without the leila\n",
       "1279998                                             told you\n",
       "Name: clean_text, Length: 1279999, dtype: object"
      ]
     },
     "execution_count": 64,
     "metadata": {},
     "output_type": "execute_result"
    }
   ],
   "source": [
    "X_train"
   ]
  },
  {
   "cell_type": "code",
   "execution_count": 65,
   "metadata": {},
   "outputs": [
    {
     "data": {
      "text/plain": [
       "array([1, 0, 1, ..., 0, 0, 1], dtype=int64)"
      ]
     },
     "execution_count": 65,
     "metadata": {},
     "output_type": "execute_result"
    }
   ],
   "source": [
    "y_train"
   ]
  },
  {
   "cell_type": "markdown",
   "metadata": {},
   "source": [
    "## Hyperparameters\n",
    "Here, we define some important hyperparameters.\n",
    "\n",
    "`vocab_size` refers the maximum size of vocabulary.\n",
    "\n",
    "`embedding_dim` refer the sequence length that we take iin as input.\n",
    "\n",
    "`max_length` refers to the maximum length of sequence padding."
   ]
  },
  {
   "cell_type": "code",
   "execution_count": 11,
   "metadata": {
    "id": "Px3Oau_-0mVn"
   },
   "outputs": [],
   "source": [
    "vocab_size = 40000\n",
    "embedding_dim = 16\n",
    "max_length = 50\n",
    "trunc_type = 'post'\n",
    "oov_tok = '<OOV>'\n",
    "padding_type = 'post'"
   ]
  },
  {
   "cell_type": "markdown",
   "metadata": {},
   "source": [
    "# Tokenization & Sequence Padding"
   ]
  },
  {
   "cell_type": "code",
   "execution_count": 12,
   "metadata": {
    "id": "r_8K6cz2MLIf"
   },
   "outputs": [],
   "source": [
    "#Generating word index dict\n",
    "tokenizer = Tokenizer(num_words=vocab_size, oov_token = oov_tok)\n",
    "tokenizer.fit_on_texts(X_train)\n",
    "word_index = tokenizer.word_index"
   ]
  },
  {
   "cell_type": "code",
   "execution_count": 13,
   "metadata": {
    "id": "O734SWksMhPp"
   },
   "outputs": [],
   "source": [
    "# Convert texts into integer based on the word index generated \n",
    "sequences = tokenizer.texts_to_sequences(X_train)\n",
    "\n",
    "# padding the sentences to reach a max length of 120 words\n",
    "padded = pad_sequences(sequences, maxlen=max_length, truncating=trunc_type, padding=padding_type)\n",
    "\n",
    "# Do the same thing for testing data\n",
    "X_test_sequences = tokenizer.texts_to_sequences(X_test)\n",
    "X_test_padded = pad_sequences(X_test_sequences, maxlen=max_length, truncating= trunc_type,padding=padding_type)"
   ]
  },
  {
   "cell_type": "markdown",
   "metadata": {},
   "source": [
    "# Model Training\n",
    "We will use Neural Network as our model"
   ]
  },
  {
   "cell_type": "code",
   "execution_count": 46,
   "metadata": {
    "id": "GiLwV-AFM6_Q"
   },
   "outputs": [],
   "source": [
    "model = tf.keras.Sequential([\n",
    "  tf.keras.layers.Embedding(vocab_size, embedding_dim, input_length = max_length),\n",
    "  #tf.keras.layers.Bidirectional(tf.keras.layers.LSTM(10,return_sequences=True, dropout=0.25, recurrent_dropout=0.1)),\n",
    "  tf.keras.layers.GlobalAveragePooling1D(),\n",
    "  tf.keras.layers.Dense(10, activation= 'relu'),\n",
    "  tf.keras.layers.Dropout(0.25),\n",
    "  tf.keras.layers.Dense(1, activation='sigmoid')\n",
    "])"
   ]
  },
  {
   "cell_type": "code",
   "execution_count": 47,
   "metadata": {
    "id": "gNMJ3lLZOzdR"
   },
   "outputs": [],
   "source": [
    "model.compile(loss=tf.keras.losses.BinaryCrossentropy(), optimizer='adam', metrics=['accuracy'])"
   ]
  },
  {
   "cell_type": "code",
   "execution_count": 48,
   "metadata": {
    "id": "AwDkCD67PX-v"
   },
   "outputs": [
    {
     "name": "stdout",
     "output_type": "stream",
     "text": [
      "Model: \"sequential_1\"\n",
      "_________________________________________________________________\n",
      " Layer (type)                Output Shape              Param #   \n",
      "=================================================================\n",
      " embedding_1 (Embedding)     (None, 50, 16)            640000    \n",
      "                                                                 \n",
      " global_average_pooling1d_1   (None, 16)               0         \n",
      " (GlobalAveragePooling1D)                                        \n",
      "                                                                 \n",
      " dense_2 (Dense)             (None, 10)                170       \n",
      "                                                                 \n",
      " dropout (Dropout)           (None, 10)                0         \n",
      "                                                                 \n",
      " dense_3 (Dense)             (None, 1)                 11        \n",
      "                                                                 \n",
      "=================================================================\n",
      "Total params: 640,181\n",
      "Trainable params: 640,181\n",
      "Non-trainable params: 0\n",
      "_________________________________________________________________\n"
     ]
    }
   ],
   "source": [
    "model.summary()"
   ]
  },
  {
   "cell_type": "code",
   "execution_count": 49,
   "metadata": {
    "id": "xw2N6QXePglG"
   },
   "outputs": [],
   "source": [
    "# y_train = tf.keras.utils.to_categorical(y_train)\n",
    "# y_test = tf.keras.utils.to_categorical(y_test)\n",
    "y_train = np.array(y_train)\n",
    "y_test = np.array(y_test)"
   ]
  },
  {
   "cell_type": "code",
   "execution_count": 51,
   "metadata": {
    "id": "P-vu5T7pP0Re"
   },
   "outputs": [
    {
     "name": "stdout",
     "output_type": "stream",
     "text": [
      "Epoch 1/5\n",
      "32000/32000 [==============================] - 238s 7ms/step - loss: 0.4230 - accuracy: 0.8093 - val_loss: 0.4311 - val_accuracy: 0.8034\n",
      "Epoch 2/5\n",
      "32000/32000 [==============================] - 241s 8ms/step - loss: 0.4191 - accuracy: 0.8118 - val_loss: 0.4303 - val_accuracy: 0.8024\n",
      "Epoch 3/5\n",
      "32000/32000 [==============================] - 236s 7ms/step - loss: 0.4166 - accuracy: 0.8129 - val_loss: 0.4299 - val_accuracy: 0.8034\n",
      "Epoch 4/5\n",
      "32000/32000 [==============================] - 238s 7ms/step - loss: 0.4145 - accuracy: 0.8143 - val_loss: 0.4318 - val_accuracy: 0.8022\n",
      "Epoch 5/5\n",
      "32000/32000 [==============================] - 236s 7ms/step - loss: 0.4126 - accuracy: 0.8157 - val_loss: 0.4309 - val_accuracy: 0.8037\n"
     ]
    }
   ],
   "source": [
    "epochs = 5\n",
    "\n",
    "history = model.fit(padded, y_train, epochs=epochs,validation_split = 0.2)"
   ]
  },
  {
   "cell_type": "code",
   "execution_count": 52,
   "metadata": {
    "id": "5nXLnJR2QSmi"
   },
   "outputs": [
    {
     "name": "stdout",
     "output_type": "stream",
     "text": [
      "10000/10000 [==============================] - 30s 3ms/step - loss: 0.4309 - accuracy: 0.8037\n",
      "Test loss: 0.43091410398483276, test accuracy: 0.8036656379699707\n"
     ]
    }
   ],
   "source": [
    "results = model.evaluate(X_test_padded, y_test)\n",
    "print(f'Test loss: {results[0]}, test accuracy: {results[1]}')"
   ]
  },
  {
   "cell_type": "code",
   "execution_count": 53,
   "metadata": {},
   "outputs": [
    {
     "name": "stdout",
     "output_type": "stream",
     "text": [
      "10000/10000 [==============================] - 17s 2ms/step\n"
     ]
    }
   ],
   "source": [
    "y_pred = model.predict(X_test_padded)"
   ]
  },
  {
   "cell_type": "code",
   "execution_count": 54,
   "metadata": {},
   "outputs": [],
   "source": [
    "y_predd = [1 if y >= 0.5 else 0 for y in y_pred ]"
   ]
  },
  {
   "cell_type": "markdown",
   "metadata": {},
   "source": [
    "# Model Evaluation\n",
    "We will evaluate our model using confusion matrix, and classification report"
   ]
  },
  {
   "cell_type": "code",
   "execution_count": 55,
   "metadata": {},
   "outputs": [
    {
     "data": {
      "image/png": "[encoded data removed]",
      "text/plain": [
       "<Figure size 1080x720 with 2 Axes>"
      ]
     },
     "metadata": {
      "needs_background": "light"
     },
     "output_type": "display_data"
    },
    {
     "name": "stdout",
     "output_type": "stream",
     "text": [
      "              precision    recall  f1-score   support\n",
      "\n",
      "           0    0.79851   0.81155   0.80498    159773\n",
      "           1    0.80897   0.79580   0.80233    160227\n",
      "\n",
      "    accuracy                        0.80367    320000\n",
      "   macro avg    0.80374   0.80368   0.80366    320000\n",
      "weighted avg    0.80375   0.80367   0.80365    320000\n",
      "\n"
     ]
    }
   ],
   "source": [
    "from sklearn.metrics import confusion_matrix, classification_report,accuracy_score\n",
    "\n",
    "classes = ['Negative', 'Positive']\n",
    "\n",
    "CLASSES = ['True Negative', 'False Positive','False Negative','True Positive']\n",
    "\n",
    "CATEGORIES = [\"0\",\"1\"]\n",
    "def makeConfusionMatrix(y_test,y_predd):\n",
    "    cf_matrix = confusion_matrix(y_test, y_predd)\n",
    "\n",
    "    group_names = CLASSES\n",
    "    group_counts = [\"{0:0.0f}\".format(value) for value in cf_matrix.flatten()]\n",
    "    group_percentages = [\"{0:.2%}\".format(value) for value in cf_matrix.flatten()/np.sum(cf_matrix)]\n",
    "\n",
    "    labels = [f\"{v1}\\n{v2}\\n{v3}\" for v1, v2, v3 in zip(group_names,group_counts,group_percentages)]\n",
    "\n",
    "    labels = np.asarray(labels).reshape(2,2)\n",
    "\n",
    "    plt.figure(figsize=(15,10))\n",
    "    ax = sns.heatmap(cf_matrix, annot=labels, fmt='', cmap='Blues')\n",
    "    ax.set_title('Neural Network Confusion Matrix\\n\\n');\n",
    "    ax.set_xlabel(f'\\nPredicted Label\\n\\n Accuracy: {np.round(results[1],4)}')\n",
    "    ax.set_ylabel('Actual Label ')\n",
    "\n",
    "    ## Ticket labels - List must be in alphabetical order\n",
    "    ax.xaxis.set_ticklabels(CATEGORIES)\n",
    "    ax.yaxis.set_ticklabels(CATEGORIES)\n",
    "\n",
    "    ## Display the visualization of the Confusion Matrix.\n",
    "    plt.show()\n",
    "    print(classification_report(y_test, y_predd, digits=5))\n",
    "\n",
    "makeConfusionMatrix(y_test,y_predd)\n"
   ]
  },
  {
   "cell_type": "code",
   "execution_count": 56,
   "metadata": {},
   "outputs": [],
   "source": [
    "model.save('tensorflow_text_classification.h5')"
   ]
  },
  {
   "cell_type": "code",
   "execution_count": 57,
   "metadata": {
    "id": "_zwFMcRhhJYK"
   },
   "outputs": [
    {
     "name": "stdout",
     "output_type": "stream",
     "text": [
      "1/1 [==============================] - 0s 50ms/step\n",
      "Hi I am very happy, I am on vaccation today\n",
      "Sentiment: Positive\n",
      "\n",
      "I am depressed\n",
      "Sentiment: Negative\n",
      "\n",
      "Today i am very sad\n",
      "Sentiment: Negative\n",
      "\n",
      "I just had my lunch\n",
      "Sentiment: Positive\n",
      "\n",
      "Bye I am going to suicide\n",
      "Sentiment: Negative\n",
      "\n",
      "I scored A\n",
      "Sentiment: Positive\n",
      "\n"
     ]
    }
   ],
   "source": [
    "def convert(text):\n",
    "  # Convert texts into integer based on the word index generated \n",
    "  sequences = tokenizer.texts_to_sequences(text)\n",
    "\n",
    "  # padding the sentences to reach a max length of 120 words\n",
    "  padded = pad_sequences(sequences, maxlen=max_length, truncating=trunc_type, padding=padding_type)\n",
    "\n",
    "  return padded\n",
    "text = ['Hi I am very happy, I am on vaccation today', \"I am depressed\",\"Today i am very sad\",\"I just had my lunch\",\"Bye I am going to suicide\",\"I scored A\"]\n",
    "convertedText = convert(text)\n",
    "\n",
    "predictions = model.predict([convertedText])\n",
    "for i,pred in enumerate(predictions):\n",
    "  print(f'{text[i]}\\nSentiment: {classes[1 if pred >= 0.5 else 0]}\\n')"
   ]
  }
 ],
 "metadata": {
  "colab": {
   "collapsed_sections": [],
   "name": "Tensorflow neural network.ipynb",
   "provenance": []
  },
  "kernelspec": {
   "display_name": "Python 3 (ipykernel)",
   "language": "python",
   "name": "python3"
  },
  "language_info": {
   "codemirror_mode": {
    "name": "ipython",
    "version": 3
   },
   "file_extension": ".py",
   "mimetype": "text/x-python",
   "name": "python",
   "nbconvert_exporter": "python",
   "pygments_lexer": "ipython3",
   "version": "3.8.8"
  },
  "vscode": {
   "interpreter": {
    "hash": "321754f99c55ececfac3ace3ba6f9ad7c8d456a507972916405eb01b4e52db5e"
   }
  }
 },
 "nbformat": 4,
 "nbformat_minor": 1
}
